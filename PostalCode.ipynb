{
 "cells": [
  {
   "cell_type": "markdown",
   "id": "ff51fdf6-a400-4750-85f7-1be57e0614db",
   "metadata": {},
   "source": [
    "## Get correct (Swedish) Postal Code"
   ]
  },
  {
   "cell_type": "markdown",
   "id": "d8f2ebb9-28f1-4930-83ed-534fd7b70351",
   "metadata": {},
   "source": [
    "#### Import needed packages"
   ]
  },
  {
   "cell_type": "code",
   "execution_count": null,
   "id": "c1573fa7-fd04-4388-beef-fc7c650ac0fb",
   "metadata": {},
   "outputs": [],
   "source": [
    "import pandas as pd\n",
    "import numpy as np\n",
    "import requests\n",
    "import json\n",
    "import urllib\n",
    "import time"
   ]
  },
  {
   "cell_type": "markdown",
   "id": "86e56161-2ad5-43f2-b8dc-0091bad2b345",
   "metadata": {},
   "source": [
    "#### Create Pandas DataFrame"
   ]
  },
  {
   "cell_type": "code",
   "execution_count": null,
   "id": "2bb66a4d",
   "metadata": {},
   "outputs": [],
   "source": [
    "missing = pd.read_csv('~/temp/.csv', sep=';')\n",
    "missing.head()"
   ]
  },
  {
   "cell_type": "code",
   "execution_count": null,
   "id": "88fb14b4",
   "metadata": {},
   "outputs": [],
   "source": [
    "missing['STR_1ST'] = missing['STR_1ST'].replace(np.nan, '')\n",
    "missing.head()"
   ]
  },
  {
   "cell_type": "markdown",
   "id": "a62f5d82-8328-4cf8-8b08-9d27961171cb",
   "metadata": {
    "tags": []
   },
   "source": [
    "#### Iterate over DataFrame and scrape PostNord API"
   ]
  },
  {
   "cell_type": "code",
   "execution_count": null,
   "id": "810b6098-908c-4219-8c4b-7e46f5c40af4",
   "metadata": {
    "tags": []
   },
   "outputs": [],
   "source": [
    "\n",
    "base_url = '<REDACTED>'\n",
    "\n",
    "code = []\n",
    "count = 0\n",
    "for row in missing.itertuples(index=False):\n",
    "    count += 1\n",
    "    street = row[2]\n",
    "    city = row[4]\n",
    "    URL = base_url + urllib.parse.quote(street+', '+city)\n",
    "    page = requests.get(URL).json()\n",
    "    address = page.get('addresses')\n",
    "    if address == None:\n",
    "        code.append('NOT FOUND')\n",
    "    else:\n",
    "        pc = [i['postcode']['postcode'] for i in address]\n",
    "        code.append(pc[0])\n",
    "    if count % 10 == 0:\n",
    "        print(count)\n",
    "    time.sleep(5) # slow down loop to overcome cloudflare IP block\n",
    "        \n",
    "missing['Post Code'] = code\n",
    "missing.head()"
   ]
  },
  {
   "cell_type": "markdown",
   "id": "55c767e0-7f3b-4363-bd89-685f052c40b7",
   "metadata": {},
   "source": [
    "#### Export to csv, encoding optional (defaults to utf-8)"
   ]
  },
  {
   "cell_type": "code",
   "execution_count": 14,
   "id": "eda2258b-79d1-4e93-98d5-b966caaf5420",
   "metadata": {
    "tags": []
   },
   "outputs": [
    {
     "name": "stdout",
     "output_type": "stream",
     "text": [
      "Done\n"
     ]
    }
   ],
   "source": [
    "missing.to_csv('~/Downloads/Temp/Adr_update.csv', \n",
    "                 encoding='utf-8-sig', sep=';', index=False)\n",
    "print('Done')\n"
   ]
  },
  {
   "cell_type": "code",
   "execution_count": null,
   "id": "b9fee337-41ca-4ce5-964b-a30cdd2149d8",
   "metadata": {},
   "outputs": [],
   "source": []
  }
 ],
 "metadata": {
  "kernelspec": {
   "display_name": "Python 3 (ipykernel)",
   "language": "python",
   "name": "python3"
  },
  "language_info": {
   "codemirror_mode": {
    "name": "ipython",
    "version": 3
   },
   "file_extension": ".py",
   "mimetype": "text/x-python",
   "name": "python",
   "nbconvert_exporter": "python",
   "pygments_lexer": "ipython3",
   "version": "3.11.5"
  }
 },
 "nbformat": 4,
 "nbformat_minor": 5
}
